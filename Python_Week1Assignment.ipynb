{
 "cells": [
  {
   "cell_type": "code",
   "execution_count": 3,
   "id": "68417ae2-3fd4-488f-8e49-bb0513a3de94",
   "metadata": {},
   "outputs": [
    {
     "name": "stdout",
     "output_type": "stream",
     "text": [
      "Hello, Python!\n"
     ]
    }
   ],
   "source": [
    "#Exercise 1: Print a Greeting\n",
    "print(\"Hello, Python!\")"
   ]
  },
  {
   "cell_type": "code",
   "execution_count": 7,
   "id": "e1a9f928-accb-4440-8ded-8fb5d018afbc",
   "metadata": {},
   "outputs": [
    {
     "name": "stdout",
     "output_type": "stream",
     "text": [
      "30\n"
     ]
    }
   ],
   "source": [
    "#Exercise 2: Basic Arithematic\n",
    "a = 10\n",
    "b = 20\n",
    "sum = a+b\n",
    "print (sum)"
   ]
  },
  {
   "cell_type": "code",
   "execution_count": 21,
   "id": "4247d40c-14ff-4288-9099-ef1f3f9f2253",
   "metadata": {},
   "outputs": [
    {
     "name": "stdout",
     "output_type": "stream",
     "text": [
      "Hello, Kevin\n"
     ]
    }
   ],
   "source": [
    "#Exercise 3: String Manipulation\n",
    "name = \"Kevin\"\n",
    "print(f\"Hello, {name}\")"
   ]
  },
  {
   "cell_type": "code",
   "execution_count": 27,
   "id": "3f6c7d3e-6339-4edb-a296-1a14389a7d75",
   "metadata": {},
   "outputs": [
    {
     "name": "stdout",
     "output_type": "stream",
     "text": [
      "['MIT', 'LBS', 'LSE', 'ESADE']\n",
      "MIT ESADE\n"
     ]
    }
   ],
   "source": [
    "#Exercise 4: Lists\n",
    "universities = [\"MIT\", \"LBS\", \"LSE\", \"ESADE\"]\n",
    "print(universities)\n",
    "print(universities[0], universities[3]) "
   ]
  },
  {
   "cell_type": "code",
   "execution_count": 41,
   "id": "04c1ced1-d8b4-472f-905e-a2e5c8703195",
   "metadata": {},
   "outputs": [
    {
     "name": "stdout",
     "output_type": "stream",
     "text": [
      "{'name': 'Kevin', 'age': 24, 'grade': 'B'}\n"
     ]
    }
   ],
   "source": [
    "#Exercise 5: Dictionaries\n",
    "student = {'name': \"Kevin\",\n",
    "           'age': 24,\n",
    "           'grade': \"B\"}\n",
    "print(student)"
   ]
  },
  {
   "cell_type": "code",
   "execution_count": 47,
   "id": "1df9b5c1-1da5-4f5e-ab36-cdd61e315222",
   "metadata": {},
   "outputs": [
    {
     "name": "stdout",
     "output_type": "stream",
     "text": [
      "Index 0: 347\n",
      "Index 1: 780\n"
     ]
    }
   ],
   "source": [
    "#Exercise 6: Tuples\n",
    "coordinates = (347, 780)\n",
    "index = 0\n",
    "for value in coordinates:\n",
    "    print(f\"Index {index}: {value}\")\n",
    "    index += 1"
   ]
  },
  {
   "cell_type": "code",
   "execution_count": 63,
   "id": "9a16e122-30f6-4b6e-a84f-9c97a26c3a75",
   "metadata": {},
   "outputs": [
    {
     "name": "stdout",
     "output_type": "stream",
     "text": [
      "{'blue', 'green', 'red'}\n",
      "{'blue', 'yellow', 'green', 'red'}\n",
      "{'blue', 'yellow', 'green', 'red'}\n",
      "{'yellow', 'green', 'red'}\n",
      "{'pink', 'peach', 'green', 'yellow', 'beige', 'red'}\n"
     ]
    }
   ],
   "source": [
    "#Exercise 7: Sets\n",
    "colours = {\"red\", \"green\", \"blue\"}\n",
    "print(colours)\n",
    "colours.add(\"yellow\")\n",
    "print(colours)\n",
    "colours.add(\"red\")\n",
    "print(colours)\n",
    "colours.pop()\n",
    "print(colours)\n",
    "light_colours = {\"pink\", \"peach\", \"beige\"}\n",
    "colour_sum = colours.union(light_colours)\n",
    "print(colour_sum)"
   ]
  },
  {
   "cell_type": "code",
   "execution_count": 75,
   "id": "fcb54a77-4648-4a2d-9314-7c6c568ae826",
   "metadata": {},
   "outputs": [
    {
     "name": "stdin",
     "output_type": "stream",
     "text": [
      "Please enter a number: 8\n"
     ]
    },
    {
     "name": "stdout",
     "output_type": "stream",
     "text": [
      "Number is even.\n",
      "8\n"
     ]
    }
   ],
   "source": [
    "#Exercise 8: Conditional Statements\n",
    "user_number = int(input(\"Please enter a number:\"))\n",
    "if (user_number%2 == 0):\n",
    "    print(\"Number is even.\")\n",
    "else:\n",
    "    print(\"Number is odd.\")   \n",
    "\n",
    "print (user_number)"
   ]
  },
  {
   "cell_type": "code",
   "execution_count": 77,
   "id": "d9f17b93-9fc8-4471-add7-f4b42bd8891d",
   "metadata": {},
   "outputs": [
    {
     "name": "stdout",
     "output_type": "stream",
     "text": [
      "1\n",
      "2\n",
      "3\n",
      "4\n",
      "5\n",
      "list over\n"
     ]
    }
   ],
   "source": [
    "#Exercise 9: For Loop\n",
    "counting = [1, 2, 3, 4, 5]\n",
    "for count in counting:\n",
    "    print(count)\n",
    "else:\n",
    "    print(\"list over\")\n"
   ]
  },
  {
   "cell_type": "code",
   "execution_count": 81,
   "id": "74b16781-4d1f-4cb7-b187-f450c810bedd",
   "metadata": {},
   "outputs": [
    {
     "name": "stdout",
     "output_type": "stream",
     "text": [
      "1\n",
      "2\n",
      "3\n",
      "4\n",
      "5\n",
      "Finish.\n"
     ]
    }
   ],
   "source": [
    "#Exercise 10: While Loop\n",
    "counting = 1\n",
    "while counting <= 5:\n",
    "    print(counting)\n",
    "    counting += 1\n",
    "else:\n",
    "    print(\"Finish.\")"
   ]
  },
  {
   "cell_type": "code",
   "execution_count": 99,
   "id": "81faa60a-546f-43a6-b662-c06fc93041e7",
   "metadata": {},
   "outputs": [
    {
     "name": "stdin",
     "output_type": "stream",
     "text": [
      "please enter a grade: b\n"
     ]
    },
    {
     "name": "stdout",
     "output_type": "stream",
     "text": [
      "Good Job!\n"
     ]
    }
   ],
   "source": [
    "#Exercise 11: Match Statement\n",
    "grade = (input(\"Please enter a grade:\").upper())\n",
    "if grade == \"A\":\n",
    "    print(\"Excellent!\")\n",
    "elif grade == \"B\":\n",
    "    print(\"Good Job!\")\n",
    "elif grade == \"C\":\n",
    "    print(\"Fair!\")\n",
    "elif grade == \"D\":\n",
    "    print(\"Needs Improvement!\")\n",
    "elif grade == \"F\":\n",
    "    print(\"Failing!\")\n",
    "else:\n",
    "    print(\"Invalid Input!\")\n",
    "    \n",
    "    "
   ]
  },
  {
   "cell_type": "code",
   "execution_count": 119,
   "id": "6cbf989e-8ffc-4f13-8938-690f62bc17e6",
   "metadata": {},
   "outputs": [
    {
     "name": "stdin",
     "output_type": "stream",
     "text": [
      "Hi! Whats your name? dorothy\n"
     ]
    },
    {
     "name": "stdout",
     "output_type": "stream",
     "text": [
      "Hello, dorothy\n"
     ]
    }
   ],
   "source": [
    "#Exercise 12: Define a Function\n",
    "def greet(name):\n",
    " print(f\"Hello, {name}\")\n",
    "\n",
    "name = input(\"Hi! Whats your name?\")\n",
    "greet(name)"
   ]
  },
  {
   "cell_type": "code",
   "execution_count": 5,
   "id": "eb376c65-797f-47ac-8938-32a62ee3c8a5",
   "metadata": {},
   "outputs": [
    {
     "name": "stdin",
     "output_type": "stream",
     "text": [
      "Please enter your number: 5\n"
     ]
    },
    {
     "name": "stdout",
     "output_type": "stream",
     "text": [
      "{25}\n"
     ]
    }
   ],
   "source": [
    "#Exercise 13: Function with Return Value\n",
    "def square(input):\n",
    "    sq = input*input\n",
    "    print({sq})\n",
    "number = int(input(\"Please enter your number:\"))\n",
    "square(number)"
   ]
  },
  {
   "cell_type": "code",
   "execution_count": 17,
   "id": "2db27d3c-bc4b-495f-992c-f0e025c9d8cd",
   "metadata": {},
   "outputs": [
    {
     "name": "stdin",
     "output_type": "stream",
     "text": [
      "Please enter A: 5\n",
      "Please enter B: 3\n"
     ]
    },
    {
     "name": "stdout",
     "output_type": "stream",
     "text": [
      "The product of 5 & 3 is: 15\n"
     ]
    }
   ],
   "source": [
    "#Exercise 14: Function with Default Parameters\n",
    "def multiply(a,b):\n",
    "    mul = a*b\n",
    "    return(mul)\n",
    "b = 1\n",
    "a = int(input(\"Please enter A:\"))\n",
    "b = int(input(\"Please enter B:\"))\n",
    "result = multiply(a,b)\n",
    "print(f\"The product of {a} & {b} is: {result}\")"
   ]
  },
  {
   "cell_type": "code",
   "execution_count": 23,
   "id": "a674bd0c-2f69-4aeb-a17e-ad5a1729648b",
   "metadata": {},
   "outputs": [
    {
     "name": "stdout",
     "output_type": "stream",
     "text": [
      "[1, 4, 9, 16, 25, 36, 49, 64, 81, 100]\n"
     ]
    }
   ],
   "source": [
    "#Exercise 15: List Comprehension\n",
    "num_list = list(range(1,11))\n",
    "sqr_list = [num * num for num in num_list]\n",
    "print(sqr_list)"
   ]
  },
  {
   "cell_type": "code",
   "execution_count": 31,
   "id": "cd6e27c6-bada-4be6-9d8d-c49f4b3959e2",
   "metadata": {},
   "outputs": [
    {
     "name": "stdout",
     "output_type": "stream",
     "text": [
      "The average score of Kevin is: 76.67\n",
      "The average score of Richard is: 73.33\n",
      "The average score of Shawn is: 69.33\n",
      "The average score of Alex is: 72.67\n"
     ]
    }
   ],
   "source": [
    "#Exercise 16: Nested Data Structures\n",
    "grades = { 'Kevin': { 'Math': 87, 'Physics': 78, 'Chemistry': 65 },\n",
    "           'Richard': { 'Math': 57, 'Physics': 74, 'Chemistry': 89 },\n",
    "           'Shawn': { 'Math': 94, 'Physics': 69, 'Chemistry': 45 },\n",
    "           'Alex': { 'Math': 88, 'Physics': 85, 'Chemistry': 45 } }\n",
    "for person, subjects in grades.items():\n",
    "    average = sum(subjects.values()) / 3\n",
    "    print(f\"The average score of {person} is: {average:.2f}\")\n",
    "    \n",
    "            "
   ]
  },
  {
   "cell_type": "code",
   "execution_count": null,
   "id": "90a0ed22-fe64-42df-8210-e67477c109d1",
   "metadata": {},
   "outputs": [],
   "source": [
    "#Exercise 17: Simple Calculator\n",
    "def calculator():\n",
    "    x = float(input(\"Please enter the first number:\"))\n",
    "    y = float(input(\"Please enter the second number:\"))\n",
    "    op= input(\"Choose an operation (+,-,*,/)\")\n",
    "    if op == \"+\":\n",
    "        answer = x + y\n",
    "        print (f\"The sum is: {answer}\")\n",
    "    elif op == \"-\":\n",
    "        answer = x - y\n",
    "        print (f\"The difference is: {answer:.2}\")    \n",
    "    elif op == \"*\":\n",
    "        answer = x * y\n",
    "        print (f\"The product is: {answer:.2f}\")\n",
    "    elif op == \"/\":\n",
    "        answer = x / y\n",
    "        print (f\"The quotient is: {answer:.2f}\")\n",
    "\n",
    "calculator()"
   ]
  },
  {
   "cell_type": "code",
   "execution_count": null,
   "id": "3368ba4c-1b57-44d5-878e-49ca5704e76f",
   "metadata": {},
   "outputs": [],
   "source": []
  }
 ],
 "metadata": {
  "kernelspec": {
   "display_name": "Python 3 (ipykernel)",
   "language": "python",
   "name": "python3"
  },
  "language_info": {
   "codemirror_mode": {
    "name": "ipython",
    "version": 3
   },
   "file_extension": ".py",
   "mimetype": "text/x-python",
   "name": "python",
   "nbconvert_exporter": "python",
   "pygments_lexer": "ipython3",
   "version": "3.12.4"
  }
 },
 "nbformat": 4,
 "nbformat_minor": 5
}
